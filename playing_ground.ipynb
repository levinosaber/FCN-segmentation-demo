{
 "cells": [
  {
   "cell_type": "code",
   "execution_count": null,
   "metadata": {},
   "outputs": [],
   "source": [
    "from image_preprocessing.preprocessing_classes import SegmentationPresetTrain"
   ]
  }
 ],
 "metadata": {
  "kernelspec": {
   "display_name": "ML_DL2",
   "language": "python",
   "name": "python3"
  },
  "language_info": {
   "name": "python",
   "version": "3.9.18"
  }
 },
 "nbformat": 4,
 "nbformat_minor": 2
}
